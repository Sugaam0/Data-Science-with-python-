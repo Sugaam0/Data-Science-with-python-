{
 "cells": [
  {
   "cell_type": "code",
   "execution_count": 1,
   "id": "3272d1e7-76c1-4673-b568-7a68456dacaf",
   "metadata": {},
   "outputs": [],
   "source": [
    "def http_status(code):\n",
    "    match code:\n",
    "        case 200:\n",
    "            return \"ok\"\n",
    "        case 400:\n",
    "            return \"Bad request\"\n",
    "        case 404:\n",
    "            return \"Not Found\"\n",
    "        case 500:\n",
    "            return \"internal Server Error\"\n",
    "        case _:\n",
    "            return \"Unknown status\""
   ]
  },
  {
   "cell_type": "code",
   "execution_count": 2,
   "id": "57dafa10-cfc9-4244-9a89-fddc0366eb70",
   "metadata": {},
   "outputs": [
    {
     "data": {
      "text/plain": [
       "<function print(*args, sep=' ', end='\\n', file=None, flush=False)>"
      ]
     },
     "execution_count": 2,
     "metadata": {},
     "output_type": "execute_result"
    }
   ],
   "source": [
    "print"
   ]
  },
  {
   "cell_type": "code",
   "execution_count": 3,
   "id": "9b57b6ec-4bd1-48b5-b37e-1cf7308f56ae",
   "metadata": {},
   "outputs": [
    {
     "name": "stdout",
     "output_type": "stream",
     "text": [
      "ok\n"
     ]
    }
   ],
   "source": [
    "print(http_status(200))"
   ]
  },
  {
   "cell_type": "code",
   "execution_count": 4,
   "id": "61f701a3-5039-41c8-a564-b7a622a2d2b9",
   "metadata": {},
   "outputs": [],
   "source": [
    "code = 500"
   ]
  },
  {
   "cell_type": "code",
   "execution_count": 5,
   "id": "1da974e9-88ad-42de-8537-c1e215f564be",
   "metadata": {},
   "outputs": [
    {
     "name": "stdout",
     "output_type": "stream",
     "text": [
      "500\n"
     ]
    }
   ],
   "source": [
    "print(code)"
   ]
  },
  {
   "cell_type": "code",
   "execution_count": 6,
   "id": "36c3040d-32d5-4e41-b884-e0048aa88891",
   "metadata": {},
   "outputs": [
    {
     "name": "stdout",
     "output_type": "stream",
     "text": [
      "internal Server Error\n"
     ]
    }
   ],
   "source": [
    "print(http_status(code))"
   ]
  },
  {
   "cell_type": "code",
   "execution_count": 7,
   "id": "43be6c5b-c4c4-4c90-a29c-206e22a79f6d",
   "metadata": {},
   "outputs": [
    {
     "name": "stdout",
     "output_type": "stream",
     "text": [
      "Unknown status\n"
     ]
    }
   ],
   "source": [
    "print(http_status(5000))"
   ]
  },
  {
   "cell_type": "code",
   "execution_count": null,
   "id": "cdb8ee6f-1b77-40d6-b9f3-af3181f3ced8",
   "metadata": {},
   "outputs": [],
   "source": []
  }
 ],
 "metadata": {
  "kernelspec": {
   "display_name": "Python [conda env:base] *",
   "language": "python",
   "name": "conda-base-py"
  },
  "language_info": {
   "codemirror_mode": {
    "name": "ipython",
    "version": 3
   },
   "file_extension": ".py",
   "mimetype": "text/x-python",
   "name": "python",
   "nbconvert_exporter": "python",
   "pygments_lexer": "ipython3",
   "version": "3.12.7"
  }
 },
 "nbformat": 4,
 "nbformat_minor": 5
}
