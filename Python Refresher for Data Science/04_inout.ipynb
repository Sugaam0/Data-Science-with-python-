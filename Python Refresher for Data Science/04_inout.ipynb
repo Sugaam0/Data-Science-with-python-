{
 "cells": [
  {
   "cell_type": "markdown",
   "id": "ef4ff39d-d84b-4a1f-bdbb-1bf4a7607d43",
   "metadata": {},
   "source": [
    "### Taking the input from user"
   ]
  },
  {
   "cell_type": "code",
   "execution_count": 7,
   "id": "a50ee5d9-fcb8-4cee-9552-247b74e87b91",
   "metadata": {},
   "outputs": [
    {
     "name": "stdin",
     "output_type": "stream",
     "text": [
      "Enter the value of a 45\n"
     ]
    }
   ],
   "source": [
    "a = input(\"Enter the value of a\")  #by default it takes user input as a string"
   ]
  },
  {
   "cell_type": "code",
   "execution_count": 2,
   "id": "c522a88a-fdb1-47c5-98b4-41cbd6ec745a",
   "metadata": {},
   "outputs": [
    {
     "data": {
      "text/plain": [
       "'45'"
      ]
     },
     "execution_count": 2,
     "metadata": {},
     "output_type": "execute_result"
    }
   ],
   "source": [
    "a"
   ]
  },
  {
   "cell_type": "code",
   "execution_count": 3,
   "id": "eb6486a7-efc9-4e36-ae0d-8df903649227",
   "metadata": {},
   "outputs": [
    {
     "name": "stdin",
     "output_type": "stream",
     "text": [
      "Enter the value of b 4\n"
     ]
    }
   ],
   "source": [
    "b = input(\"Enter the value of b\")"
   ]
  },
  {
   "cell_type": "code",
   "execution_count": 4,
   "id": "f86d245a-ffad-4d34-9440-57597da2e9f4",
   "metadata": {},
   "outputs": [
    {
     "data": {
      "text/plain": [
       "'4'"
      ]
     },
     "execution_count": 4,
     "metadata": {},
     "output_type": "execute_result"
    }
   ],
   "source": [
    "b"
   ]
  },
  {
   "cell_type": "code",
   "execution_count": 5,
   "id": "4c51e8ee-8091-4ad5-b9d3-ef48384746c1",
   "metadata": {},
   "outputs": [
    {
     "data": {
      "text/plain": [
       "'454'"
      ]
     },
     "execution_count": 5,
     "metadata": {},
     "output_type": "execute_result"
    }
   ],
   "source": [
    "a+b"
   ]
  },
  {
   "cell_type": "code",
   "execution_count": 8,
   "id": "81d1c97a-441d-4457-a568-6958687e9982",
   "metadata": {},
   "outputs": [
    {
     "data": {
      "text/plain": [
       "49"
      ]
     },
     "execution_count": 8,
     "metadata": {},
     "output_type": "execute_result"
    }
   ],
   "source": [
    "int(a) + int(b)"
   ]
  },
  {
   "cell_type": "code",
   "execution_count": 9,
   "id": "459d5493-4c67-486c-b2f9-ff6d9fc1d9f8",
   "metadata": {},
   "outputs": [
    {
     "name": "stdin",
     "output_type": "stream",
     "text": [
      " 67\n"
     ]
    }
   ],
   "source": [
    "c = input()"
   ]
  },
  {
   "cell_type": "code",
   "execution_count": null,
   "id": "a3233797-5210-4d07-a48e-eea18d3ad578",
   "metadata": {},
   "outputs": [],
   "source": []
  }
 ],
 "metadata": {
  "kernelspec": {
   "display_name": "Python [conda env:base] *",
   "language": "python",
   "name": "conda-base-py"
  },
  "language_info": {
   "codemirror_mode": {
    "name": "ipython",
    "version": 3
   },
   "file_extension": ".py",
   "mimetype": "text/x-python",
   "name": "python",
   "nbconvert_exporter": "python",
   "pygments_lexer": "ipython3",
   "version": "3.12.7"
  }
 },
 "nbformat": 4,
 "nbformat_minor": 5
}
