{
 "cells": [
  {
   "cell_type": "code",
   "execution_count": 4,
   "id": "e640cf80-21f6-4a36-a829-832ad50995a1",
   "metadata": {},
   "outputs": [],
   "source": [
    "a = 4"
   ]
  },
  {
   "cell_type": "code",
   "execution_count": 6,
   "id": "b348fc4e-7ac9-44c5-bd60-076dad4b0fe0",
   "metadata": {},
   "outputs": [
    {
     "name": "stdout",
     "output_type": "stream",
     "text": [
      "smaller\n"
     ]
    }
   ],
   "source": [
    "if(a>54):\n",
    "    print(\"Greater\")\n",
    "else:\n",
    "    print(\"smaller\")"
   ]
  },
  {
   "cell_type": "code",
   "execution_count": 7,
   "id": "95edfb60-492e-44f6-998b-fb4e756ac261",
   "metadata": {},
   "outputs": [],
   "source": [
    "def avg(a,b):    #for default def avg(a, b=10)\n",
    "    return (a+b)/2"
   ]
  },
  {
   "cell_type": "code",
   "execution_count": 8,
   "id": "b5ea3096-4111-44ba-a483-da7e7d6c3bbe",
   "metadata": {},
   "outputs": [
    {
     "data": {
      "text/plain": [
       "4.5"
      ]
     },
     "execution_count": 8,
     "metadata": {},
     "output_type": "execute_result"
    }
   ],
   "source": [
    "avg(4,5)"
   ]
  },
  {
   "cell_type": "code",
   "execution_count": null,
   "id": "1a1deb84-6a07-4f64-962b-e3b409295c9b",
   "metadata": {},
   "outputs": [],
   "source": []
  }
 ],
 "metadata": {
  "kernelspec": {
   "display_name": "Python [conda env:base] *",
   "language": "python",
   "name": "conda-base-py"
  },
  "language_info": {
   "codemirror_mode": {
    "name": "ipython",
    "version": 3
   },
   "file_extension": ".py",
   "mimetype": "text/x-python",
   "name": "python",
   "nbconvert_exporter": "python",
   "pygments_lexer": "ipython3",
   "version": "3.12.7"
  }
 },
 "nbformat": 4,
 "nbformat_minor": 5
}
