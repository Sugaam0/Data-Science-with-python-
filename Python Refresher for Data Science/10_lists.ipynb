{
 "cells": [
  {
   "cell_type": "code",
   "execution_count": 3,
   "id": "db880693-de13-4c18-a6b8-ce1400a60ff9",
   "metadata": {},
   "outputs": [],
   "source": [
    "l = [3,5,25,3]\n"
   ]
  },
  {
   "cell_type": "code",
   "execution_count": 4,
   "id": "c3532635-191c-4721-a920-68a89ff5d7c3",
   "metadata": {},
   "outputs": [
    {
     "data": {
      "text/plain": [
       "5"
      ]
     },
     "execution_count": 4,
     "metadata": {},
     "output_type": "execute_result"
    }
   ],
   "source": [
    "l[1]"
   ]
  },
  {
   "cell_type": "code",
   "execution_count": 5,
   "id": "c12cd389-8024-4b11-bb5d-19c0d7bbc152",
   "metadata": {},
   "outputs": [],
   "source": [
    "l[0] = 4"
   ]
  },
  {
   "cell_type": "code",
   "execution_count": 6,
   "id": "fdcec2f4-0956-4b8d-9c41-214542babe65",
   "metadata": {},
   "outputs": [
    {
     "data": {
      "text/plain": [
       "[4, 5, 25, 3]"
      ]
     },
     "execution_count": 6,
     "metadata": {},
     "output_type": "execute_result"
    }
   ],
   "source": [
    "l"
   ]
  },
  {
   "cell_type": "code",
   "execution_count": 7,
   "id": "96026847-bd07-43b1-83ec-2dc25896143d",
   "metadata": {},
   "outputs": [],
   "source": [
    "l.append(9)"
   ]
  },
  {
   "cell_type": "code",
   "execution_count": 8,
   "id": "341a0422-0faf-4908-81d4-397f6835915e",
   "metadata": {},
   "outputs": [
    {
     "data": {
      "text/plain": [
       "[4, 5, 25, 3, 9]"
      ]
     },
     "execution_count": 8,
     "metadata": {},
     "output_type": "execute_result"
    }
   ],
   "source": [
    "l"
   ]
  },
  {
   "cell_type": "code",
   "execution_count": 9,
   "id": "d30fb101-468a-44a9-bcf5-3c4bb1ed9667",
   "metadata": {},
   "outputs": [],
   "source": [
    "l2 = [5,7]"
   ]
  },
  {
   "cell_type": "code",
   "execution_count": 10,
   "id": "39e553cb-6af1-43e2-a479-7ebe5ab8ee7e",
   "metadata": {},
   "outputs": [],
   "source": [
    "l.extend(l2)"
   ]
  },
  {
   "cell_type": "code",
   "execution_count": 11,
   "id": "c693d266-ccf1-4c05-89ac-7d0ff6a93248",
   "metadata": {},
   "outputs": [
    {
     "data": {
      "text/plain": [
       "[4, 5, 25, 3, 9, 5, 7]"
      ]
     },
     "execution_count": 11,
     "metadata": {},
     "output_type": "execute_result"
    }
   ],
   "source": [
    "l"
   ]
  },
  {
   "cell_type": "code",
   "execution_count": 12,
   "id": "7ef64046-011b-4f9f-91f8-ea4b76182147",
   "metadata": {},
   "outputs": [],
   "source": [
    "l.insert(1,200) #insert 200 at index 1"
   ]
  },
  {
   "cell_type": "code",
   "execution_count": 13,
   "id": "4a105612-e898-479d-958a-62193107812e",
   "metadata": {},
   "outputs": [
    {
     "data": {
      "text/plain": [
       "[4, 200, 5, 25, 3, 9, 5, 7]"
      ]
     },
     "execution_count": 13,
     "metadata": {},
     "output_type": "execute_result"
    }
   ],
   "source": [
    "l"
   ]
  },
  {
   "cell_type": "code",
   "execution_count": 14,
   "id": "f55a28c2-4271-42f2-b6f0-958dfc7e9ca3",
   "metadata": {},
   "outputs": [
    {
     "data": {
      "text/plain": [
       "200"
      ]
     },
     "execution_count": 14,
     "metadata": {},
     "output_type": "execute_result"
    }
   ],
   "source": [
    "l.pop(1)"
   ]
  },
  {
   "cell_type": "code",
   "execution_count": 15,
   "id": "57dddf79-858a-404d-a1e6-26c63f4cc72e",
   "metadata": {},
   "outputs": [
    {
     "data": {
      "text/plain": [
       "[4, 5, 25, 3, 9, 5, 7]"
      ]
     },
     "execution_count": 15,
     "metadata": {},
     "output_type": "execute_result"
    }
   ],
   "source": [
    "l"
   ]
  },
  {
   "cell_type": "code",
   "execution_count": 16,
   "id": "d24df54e-2cfc-4d49-a9e7-477fe3f3efa6",
   "metadata": {},
   "outputs": [
    {
     "data": {
      "text/plain": [
       "0"
      ]
     },
     "execution_count": 16,
     "metadata": {},
     "output_type": "execute_result"
    }
   ],
   "source": [
    "l.index(4)"
   ]
  },
  {
   "cell_type": "code",
   "execution_count": 17,
   "id": "16f48f35-d59b-4b17-bba9-73d71b537692",
   "metadata": {},
   "outputs": [
    {
     "data": {
      "text/plain": [
       "1"
      ]
     },
     "execution_count": 17,
     "metadata": {},
     "output_type": "execute_result"
    }
   ],
   "source": [
    "l.count(4)"
   ]
  },
  {
   "cell_type": "code",
   "execution_count": 18,
   "id": "ec9f129b-4b65-4f46-9ac5-66bd894cc363",
   "metadata": {},
   "outputs": [],
   "source": [
    "l.append(4)"
   ]
  },
  {
   "cell_type": "code",
   "execution_count": 19,
   "id": "895d47b6-4574-4a9c-8298-ab5292ddf529",
   "metadata": {},
   "outputs": [
    {
     "data": {
      "text/plain": [
       "[4, 5, 25, 3, 9, 5, 7, 4]"
      ]
     },
     "execution_count": 19,
     "metadata": {},
     "output_type": "execute_result"
    }
   ],
   "source": [
    "l"
   ]
  },
  {
   "cell_type": "code",
   "execution_count": 20,
   "id": "923119c6-694e-4a2d-abc2-a33b3db42319",
   "metadata": {},
   "outputs": [
    {
     "data": {
      "text/plain": [
       "2"
      ]
     },
     "execution_count": 20,
     "metadata": {},
     "output_type": "execute_result"
    }
   ],
   "source": [
    "l.count(4)"
   ]
  },
  {
   "cell_type": "code",
   "execution_count": 21,
   "id": "c414b754-7d66-4cf4-87cf-aa02a84ef7bb",
   "metadata": {},
   "outputs": [],
   "source": [
    "l.sort()"
   ]
  },
  {
   "cell_type": "code",
   "execution_count": 22,
   "id": "6e284d67-ea97-46fd-a993-fd4cd69a7637",
   "metadata": {},
   "outputs": [
    {
     "data": {
      "text/plain": [
       "[3, 4, 4, 5, 5, 7, 9, 25]"
      ]
     },
     "execution_count": 22,
     "metadata": {},
     "output_type": "execute_result"
    }
   ],
   "source": [
    "l"
   ]
  },
  {
   "cell_type": "code",
   "execution_count": 23,
   "id": "9e2d6259-9d14-4a06-82e4-9bd923f7eb5f",
   "metadata": {},
   "outputs": [],
   "source": [
    "newl = [2, 6, 8, 67, 6]"
   ]
  },
  {
   "cell_type": "code",
   "execution_count": 24,
   "id": "e254dd17-b441-44cc-b456-0efaf40860c7",
   "metadata": {},
   "outputs": [
    {
     "data": {
      "text/plain": [
       "[2, 6, 6, 8, 67]"
      ]
     },
     "execution_count": 24,
     "metadata": {},
     "output_type": "execute_result"
    }
   ],
   "source": [
    "sorted(newl) #returns a new list which is sorted version of original list"
   ]
  },
  {
   "cell_type": "code",
   "execution_count": 25,
   "id": "54819b21-5778-433b-9b99-aeb2b8795342",
   "metadata": {},
   "outputs": [
    {
     "data": {
      "text/plain": [
       "[2, 6, 8, 67, 6]"
      ]
     },
     "execution_count": 25,
     "metadata": {},
     "output_type": "execute_result"
    }
   ],
   "source": [
    "newl"
   ]
  },
  {
   "cell_type": "code",
   "execution_count": 26,
   "id": "5c0f26bd-2bee-4bf7-8bf1-a78217e2e3e1",
   "metadata": {},
   "outputs": [],
   "source": [
    "y = [2, 3, True, False, [6,7]]"
   ]
  },
  {
   "cell_type": "code",
   "execution_count": 27,
   "id": "81822bd3-d844-4125-9894-376c3b2b9618",
   "metadata": {},
   "outputs": [
    {
     "data": {
      "text/plain": [
       "[2, 3, True, False, [6, 7]]"
      ]
     },
     "execution_count": 27,
     "metadata": {},
     "output_type": "execute_result"
    }
   ],
   "source": [
    "y"
   ]
  },
  {
   "cell_type": "code",
   "execution_count": 28,
   "id": "39058070-9c72-4fd8-9337-036e7216d90a",
   "metadata": {},
   "outputs": [
    {
     "data": {
      "text/plain": [
       "[6, 7]"
      ]
     },
     "execution_count": 28,
     "metadata": {},
     "output_type": "execute_result"
    }
   ],
   "source": [
    "y[4]"
   ]
  },
  {
   "cell_type": "code",
   "execution_count": 31,
   "id": "004d3f17-3cd3-480d-bf12-882733b86574",
   "metadata": {},
   "outputs": [
    {
     "data": {
      "text/plain": [
       "7"
      ]
     },
     "execution_count": 31,
     "metadata": {},
     "output_type": "execute_result"
    }
   ],
   "source": [
    "y[4][1]"
   ]
  },
  {
   "cell_type": "code",
   "execution_count": null,
   "id": "16242bb5-58fb-40fd-a8c3-188698e78ecf",
   "metadata": {},
   "outputs": [],
   "source": []
  }
 ],
 "metadata": {
  "kernelspec": {
   "display_name": "Python [conda env:base] *",
   "language": "python",
   "name": "conda-base-py"
  },
  "language_info": {
   "codemirror_mode": {
    "name": "ipython",
    "version": 3
   },
   "file_extension": ".py",
   "mimetype": "text/x-python",
   "name": "python",
   "nbconvert_exporter": "python",
   "pygments_lexer": "ipython3",
   "version": "3.12.7"
  }
 },
 "nbformat": 4,
 "nbformat_minor": 5
}
