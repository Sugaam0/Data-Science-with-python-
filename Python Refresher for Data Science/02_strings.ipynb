{
 "cells": [
  {
   "cell_type": "code",
   "execution_count": 1,
   "id": "49e0f494-cf36-4ca3-96b0-17aaa67d7c0d",
   "metadata": {},
   "outputs": [],
   "source": [
    "name  = \"Sugam\""
   ]
  },
  {
   "cell_type": "code",
   "execution_count": 2,
   "id": "797eb06a-c4de-414e-a04c-9dec760eabb8",
   "metadata": {},
   "outputs": [
    {
     "data": {
      "text/plain": [
       "'Sugam'"
      ]
     },
     "execution_count": 2,
     "metadata": {},
     "output_type": "execute_result"
    }
   ],
   "source": [
    "name"
   ]
  },
  {
   "cell_type": "code",
   "execution_count": 3,
   "id": "0d3dcd6f-825a-40b9-aa5b-1f86cf57377b",
   "metadata": {},
   "outputs": [
    {
     "data": {
      "text/plain": [
       "'SUGAM'"
      ]
     },
     "execution_count": 3,
     "metadata": {},
     "output_type": "execute_result"
    }
   ],
   "source": [
    "name.upper()"
   ]
  },
  {
   "cell_type": "code",
   "execution_count": 5,
   "id": "bc5adc9e-a504-4c66-955f-60366a327f9a",
   "metadata": {},
   "outputs": [
    {
     "data": {
      "text/plain": [
       "False"
      ]
     },
     "execution_count": 5,
     "metadata": {},
     "output_type": "execute_result"
    }
   ],
   "source": [
    "name.endswith(\"ry\")"
   ]
  },
  {
   "cell_type": "code",
   "execution_count": 6,
   "id": "f43594e6-7406-4166-acfb-27f04fb7e3ad",
   "metadata": {},
   "outputs": [
    {
     "data": {
      "text/plain": [
       "'sugam'"
      ]
     },
     "execution_count": 6,
     "metadata": {},
     "output_type": "execute_result"
    }
   ],
   "source": [
    "name.lower()"
   ]
  },
  {
   "cell_type": "code",
   "execution_count": 7,
   "id": "9dc3d78b-2967-4108-baf7-e6ec311e4064",
   "metadata": {},
   "outputs": [],
   "source": [
    "s= \"helloworld\""
   ]
  },
  {
   "cell_type": "code",
   "execution_count": 8,
   "id": "e8016860-c817-4541-940f-6d0c7d7a7f33",
   "metadata": {},
   "outputs": [
    {
     "data": {
      "text/plain": [
       "'hello'"
      ]
     },
     "execution_count": 8,
     "metadata": {},
     "output_type": "execute_result"
    }
   ],
   "source": [
    "s[0:5]"
   ]
  },
  {
   "cell_type": "code",
   "execution_count": 9,
   "id": "cc885800-e005-4bd5-9fdc-e2d0bf18bcc7",
   "metadata": {},
   "outputs": [
    {
     "data": {
      "text/plain": [
       "'elloworl'"
      ]
     },
     "execution_count": 9,
     "metadata": {},
     "output_type": "execute_result"
    }
   ],
   "source": [
    "s[1:-1]"
   ]
  },
  {
   "cell_type": "code",
   "execution_count": 10,
   "id": "1bd89cdc-57f3-4272-bc19-30e4d145f578",
   "metadata": {},
   "outputs": [
    {
     "data": {
      "text/plain": [
       "'elloworld'"
      ]
     },
     "execution_count": 10,
     "metadata": {},
     "output_type": "execute_result"
    }
   ],
   "source": [
    "s[1:12]"
   ]
  },
  {
   "cell_type": "code",
   "execution_count": null,
   "id": "1934355f-346d-4b63-a444-e1afca9ac779",
   "metadata": {},
   "outputs": [],
   "source": []
  }
 ],
 "metadata": {
  "kernelspec": {
   "display_name": "Python [conda env:base] *",
   "language": "python",
   "name": "conda-base-py"
  },
  "language_info": {
   "codemirror_mode": {
    "name": "ipython",
    "version": 3
   },
   "file_extension": ".py",
   "mimetype": "text/x-python",
   "name": "python",
   "nbconvert_exporter": "python",
   "pygments_lexer": "ipython3",
   "version": "3.12.7"
  }
 },
 "nbformat": 4,
 "nbformat_minor": 5
}
