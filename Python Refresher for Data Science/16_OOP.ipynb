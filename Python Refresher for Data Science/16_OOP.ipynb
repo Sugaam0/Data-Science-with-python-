{
 "cells": [
  {
   "cell_type": "code",
   "execution_count": 6,
   "id": "d71137a4-f126-4dfa-a47a-2d0014549c31",
   "metadata": {},
   "outputs": [
    {
     "name": "stdout",
     "output_type": "stream",
     "text": [
      "The company is Hp with salary 45000\n",
      "The time is now\n",
      "The company is Hp\n"
     ]
    }
   ],
   "source": [
    "class Employee:\n",
    "    company = \"Hp\"\n",
    "    #constructor\n",
    "    def __init__(self, name, salary):\n",
    "        self.name = name\n",
    "        self.salary = salary\n",
    "    def printDetails(self):\n",
    "        print(f\"The company is {self.company} with salary {self.salary}\")\n",
    "    @staticmethod\n",
    "    def printTime():\n",
    "        print(f\"The time is now\")\n",
    "\n",
    "    @classmethod\n",
    "    def printClassDetails(cls):\n",
    "        print(f\"The company is {cls.company}\")\n",
    "        \n",
    "e = Employee(\"sugam\", 45000)\n",
    "e.printDetails()\n",
    "e.printTime()\n",
    "e.printClassDetails()"
   ]
  },
  {
   "cell_type": "code",
   "execution_count": null,
   "id": "5f1232c2-9713-42d1-bea0-b2a308ef3481",
   "metadata": {},
   "outputs": [],
   "source": []
  }
 ],
 "metadata": {
  "kernelspec": {
   "display_name": "Python [conda env:base] *",
   "language": "python",
   "name": "conda-base-py"
  },
  "language_info": {
   "codemirror_mode": {
    "name": "ipython",
    "version": 3
   },
   "file_extension": ".py",
   "mimetype": "text/x-python",
   "name": "python",
   "nbconvert_exporter": "python",
   "pygments_lexer": "ipython3",
   "version": "3.12.7"
  }
 },
 "nbformat": 4,
 "nbformat_minor": 5
}
