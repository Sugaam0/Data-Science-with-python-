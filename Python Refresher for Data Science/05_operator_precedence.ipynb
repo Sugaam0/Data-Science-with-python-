{
 "cells": [
  {
   "cell_type": "code",
   "execution_count": 1,
   "id": "338e1c57-7668-4c1e-9ec4-bc73f96d34ad",
   "metadata": {},
   "outputs": [],
   "source": [
    "result = 10 + 2 *3"
   ]
  },
  {
   "cell_type": "code",
   "execution_count": 2,
   "id": "d410c8d8-eee3-4461-ad5e-294c7bbb9945",
   "metadata": {},
   "outputs": [
    {
     "data": {
      "text/plain": [
       "16"
      ]
     },
     "execution_count": 2,
     "metadata": {},
     "output_type": "execute_result"
    }
   ],
   "source": [
    "result"
   ]
  },
  {
   "cell_type": "code",
   "execution_count": 3,
   "id": "51b09694-00a8-42c8-9c0a-1b5b3ac09369",
   "metadata": {},
   "outputs": [],
   "source": [
    "result = (10 + 2) *3 "
   ]
  },
  {
   "cell_type": "code",
   "execution_count": 4,
   "id": "290d09a2-c9d7-4bc9-9b7c-256c603cd977",
   "metadata": {},
   "outputs": [
    {
     "data": {
      "text/plain": [
       "36"
      ]
     },
     "execution_count": 4,
     "metadata": {},
     "output_type": "execute_result"
    }
   ],
   "source": [
    "result"
   ]
  },
  {
   "cell_type": "code",
   "execution_count": 5,
   "id": "19a8eaa9-a436-4013-933f-1d9fec964a5f",
   "metadata": {},
   "outputs": [
    {
     "data": {
      "text/plain": [
       "-20.956521739130434"
      ]
     },
     "execution_count": 5,
     "metadata": {},
     "output_type": "execute_result"
    }
   ],
   "source": [
    "54*3/23+4-2**5"
   ]
  },
  {
   "cell_type": "code",
   "execution_count": null,
   "id": "3c370f9c-6d42-402d-b109-ce791c3cf4d1",
   "metadata": {},
   "outputs": [],
   "source": []
  }
 ],
 "metadata": {
  "kernelspec": {
   "display_name": "Python [conda env:base] *",
   "language": "python",
   "name": "conda-base-py"
  },
  "language_info": {
   "codemirror_mode": {
    "name": "ipython",
    "version": 3
   },
   "file_extension": ".py",
   "mimetype": "text/x-python",
   "name": "python",
   "nbconvert_exporter": "python",
   "pygments_lexer": "ipython3",
   "version": "3.12.7"
  }
 },
 "nbformat": 4,
 "nbformat_minor": 5
}
