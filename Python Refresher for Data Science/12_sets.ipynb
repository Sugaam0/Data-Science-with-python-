{
 "cells": [
  {
   "cell_type": "markdown",
   "id": "e9c0d608-e474-4ae6-a1c4-8501cec1dc43",
   "metadata": {},
   "source": [
    "### Sets"
   ]
  },
  {
   "cell_type": "code",
   "execution_count": 2,
   "id": "34ea9c06-3454-45c5-b4da-f5bdae653c9d",
   "metadata": {},
   "outputs": [],
   "source": [
    "s = {4,2,3,6,8,9}"
   ]
  },
  {
   "cell_type": "code",
   "execution_count": 3,
   "id": "dc5cc430-c304-41a8-aae9-5b0d6449f815",
   "metadata": {},
   "outputs": [
    {
     "name": "stdout",
     "output_type": "stream",
     "text": [
      "{1, 2, 3, 4, 5}\n"
     ]
    }
   ],
   "source": [
    "#creating a set from a list\n",
    "unique_numbers = set([1,2,2,3,4,4,5])\n",
    "print(unique_numbers)"
   ]
  },
  {
   "cell_type": "code",
   "execution_count": null,
   "id": "64de42c8-90d7-4c3f-bc96-06cadbec0cbd",
   "metadata": {},
   "outputs": [],
   "source": []
  }
 ],
 "metadata": {
  "kernelspec": {
   "display_name": "Python [conda env:base] *",
   "language": "python",
   "name": "conda-base-py"
  },
  "language_info": {
   "codemirror_mode": {
    "name": "ipython",
    "version": 3
   },
   "file_extension": ".py",
   "mimetype": "text/x-python",
   "name": "python",
   "nbconvert_exporter": "python",
   "pygments_lexer": "ipython3",
   "version": "3.12.7"
  }
 },
 "nbformat": 4,
 "nbformat_minor": 5
}
