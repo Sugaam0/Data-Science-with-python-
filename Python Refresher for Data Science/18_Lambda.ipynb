{
 "cells": [
  {
   "cell_type": "code",
   "execution_count": 2,
   "id": "74a52d5b-beb6-48f2-888d-043534361ddc",
   "metadata": {},
   "outputs": [],
   "source": [
    "cube = lambda x:x*x*x"
   ]
  },
  {
   "cell_type": "code",
   "execution_count": 3,
   "id": "6511af1e-b6bf-407a-80c9-cd0ebcd8a696",
   "metadata": {},
   "outputs": [
    {
     "data": {
      "text/plain": [
       "27"
      ]
     },
     "execution_count": 3,
     "metadata": {},
     "output_type": "execute_result"
    }
   ],
   "source": [
    "cube(3)"
   ]
  },
  {
   "cell_type": "code",
   "execution_count": 6,
   "id": "cf6e04e1-bb4b-4a26-846c-6ca368f3aed7",
   "metadata": {},
   "outputs": [],
   "source": [
    "s= lambda a,b:a+b "
   ]
  },
  {
   "cell_type": "code",
   "execution_count": 8,
   "id": "c63786fe-61d3-4d15-9da8-cfdc9663c247",
   "metadata": {},
   "outputs": [
    {
     "data": {
      "text/plain": [
       "10"
      ]
     },
     "execution_count": 8,
     "metadata": {},
     "output_type": "execute_result"
    }
   ],
   "source": [
    "s(5,5)"
   ]
  },
  {
   "cell_type": "code",
   "execution_count": null,
   "id": "8f0535c2-d600-4796-a19e-02e8a31d6abe",
   "metadata": {},
   "outputs": [],
   "source": []
  }
 ],
 "metadata": {
  "kernelspec": {
   "display_name": "Python [conda env:base] *",
   "language": "python",
   "name": "conda-base-py"
  },
  "language_info": {
   "codemirror_mode": {
    "name": "ipython",
    "version": 3
   },
   "file_extension": ".py",
   "mimetype": "text/x-python",
   "name": "python",
   "nbconvert_exporter": "python",
   "pygments_lexer": "ipython3",
   "version": "3.12.7"
  }
 },
 "nbformat": 4,
 "nbformat_minor": 5
}
