{
 "cells": [
  {
   "cell_type": "code",
   "execution_count": 2,
   "id": "0a8b3f41-7147-462a-85d9-b12eb0da8bb0",
   "metadata": {},
   "outputs": [],
   "source": [
    "s = \"Sugam\""
   ]
  },
  {
   "cell_type": "code",
   "execution_count": 3,
   "id": "d7a086ce-b3be-4e33-8449-86a11fd9d129",
   "metadata": {},
   "outputs": [
    {
     "data": {
      "text/plain": [
       "'Sugam'"
      ]
     },
     "execution_count": 3,
     "metadata": {},
     "output_type": "execute_result"
    }
   ],
   "source": [
    "s"
   ]
  },
  {
   "cell_type": "code",
   "execution_count": 4,
   "id": "c8d87e2f-748a-4766-b37e-3636aea417bf",
   "metadata": {},
   "outputs": [
    {
     "data": {
      "text/plain": [
       "'u'"
      ]
     },
     "execution_count": 4,
     "metadata": {},
     "output_type": "execute_result"
    }
   ],
   "source": [
    "s[1]"
   ]
  },
  {
   "cell_type": "code",
   "execution_count": 6,
   "id": "4ad088f0-3174-4359-89e3-548c454e7ddc",
   "metadata": {},
   "outputs": [
    {
     "name": "stdout",
     "output_type": "stream",
     "text": [
      "My name is Alice and i am 35 years old\n"
     ]
    }
   ],
   "source": [
    "name= \"Alice\"\n",
    "age  =35\n",
    "print(\"My name is {} and i am {} years old\".format(name, age))"
   ]
  },
  {
   "cell_type": "code",
   "execution_count": 8,
   "id": "a6fcf22f-2ac3-4d4a-bf17-50810dd8405e",
   "metadata": {},
   "outputs": [
    {
     "name": "stdout",
     "output_type": "stream",
     "text": [
      "My name is Alice and i am 35 years old\n"
     ]
    }
   ],
   "source": [
    "print(f\"My name is {name} and i am {age} years old\")"
   ]
  },
  {
   "cell_type": "code",
   "execution_count": 10,
   "id": "a8b6962d-a68e-41f9-a4c5-4de992e1afcc",
   "metadata": {},
   "outputs": [
    {
     "name": "stdout",
     "output_type": "stream",
     "text": [
      "python    \n",
      "    python\n",
      "  python  \n"
     ]
    }
   ],
   "source": [
    "print(f\"{'python':<10}\")  # left-align\n",
    "print(f\"{'python':>10}\")  # left-align\n",
    "print(f\"{'python':^10}\")  # left-align"
   ]
  },
  {
   "cell_type": "code",
   "execution_count": null,
   "id": "18774d95-b6b5-4b72-b8c2-9daef83d8bcd",
   "metadata": {},
   "outputs": [],
   "source": []
  }
 ],
 "metadata": {
  "kernelspec": {
   "display_name": "Python [conda env:base] *",
   "language": "python",
   "name": "conda-base-py"
  },
  "language_info": {
   "codemirror_mode": {
    "name": "ipython",
    "version": 3
   },
   "file_extension": ".py",
   "mimetype": "text/x-python",
   "name": "python",
   "nbconvert_exporter": "python",
   "pygments_lexer": "ipython3",
   "version": "3.12.7"
  }
 },
 "nbformat": 4,
 "nbformat_minor": 5
}
