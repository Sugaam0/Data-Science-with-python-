{
 "cells": [
  {
   "cell_type": "code",
   "execution_count": 1,
   "id": "373f72f1-f674-4a64-a47b-f5a65c3c9b20",
   "metadata": {},
   "outputs": [],
   "source": [
    "student = {\n",
    "    \"name\" : \"Alice\",\n",
    "    \"age\"  : \"25\",\n",
    "    \"grade\" : \"A\"\n",
    "}"
   ]
  },
  {
   "cell_type": "code",
   "execution_count": null,
   "id": "7b15eecb-d0a9-4a44-9457-deaf89ad4478",
   "metadata": {},
   "outputs": [],
   "source": [
    "#Methods"
   ]
  },
  {
   "cell_type": "code",
   "execution_count": 4,
   "id": "96ffdc02-2cd1-4c55-b68b-53f69109f4bb",
   "metadata": {},
   "outputs": [
    {
     "data": {
      "text/plain": [
       "'Alice'"
      ]
     },
     "execution_count": 4,
     "metadata": {},
     "output_type": "execute_result"
    }
   ],
   "source": [
    "student.get(\"name\")"
   ]
  },
  {
   "cell_type": "code",
   "execution_count": 5,
   "id": "0f916779-46dd-48dc-9cc1-2ac76d3803cb",
   "metadata": {},
   "outputs": [
    {
     "data": {
      "text/plain": [
       "'Alice'"
      ]
     },
     "execution_count": 5,
     "metadata": {},
     "output_type": "execute_result"
    }
   ],
   "source": [
    "student[\"name\"]"
   ]
  },
  {
   "cell_type": "code",
   "execution_count": 6,
   "id": "6cbc5502-85ee-498d-bfb3-6f9036f4c37a",
   "metadata": {},
   "outputs": [],
   "source": [
    "student[\"age\"] = 45"
   ]
  },
  {
   "cell_type": "code",
   "execution_count": 7,
   "id": "ade654c9-8a35-432d-9766-be43eb4b8de1",
   "metadata": {},
   "outputs": [
    {
     "data": {
      "text/plain": [
       "{'name': 'Alice', 'age': 45, 'grade': 'A'}"
      ]
     },
     "execution_count": 7,
     "metadata": {},
     "output_type": "execute_result"
    }
   ],
   "source": [
    "student"
   ]
  },
  {
   "cell_type": "code",
   "execution_count": 8,
   "id": "f27e7295-2045-4876-b6ca-5433fec46141",
   "metadata": {},
   "outputs": [
    {
     "data": {
      "text/plain": [
       "dict_keys(['name', 'age', 'grade'])"
      ]
     },
     "execution_count": 8,
     "metadata": {},
     "output_type": "execute_result"
    }
   ],
   "source": [
    "student.keys()"
   ]
  },
  {
   "cell_type": "code",
   "execution_count": 9,
   "id": "29d53cb7-40ea-4b72-85b7-37f5b5458857",
   "metadata": {},
   "outputs": [
    {
     "data": {
      "text/plain": [
       "dict_values(['Alice', 45, 'A'])"
      ]
     },
     "execution_count": 9,
     "metadata": {},
     "output_type": "execute_result"
    }
   ],
   "source": [
    "student.values()"
   ]
  },
  {
   "cell_type": "code",
   "execution_count": 10,
   "id": "9cde28c2-2f34-4050-9141-5a123c6ac1aa",
   "metadata": {},
   "outputs": [
    {
     "data": {
      "text/plain": [
       "dict_items([('name', 'Alice'), ('age', 45), ('grade', 'A')])"
      ]
     },
     "execution_count": 10,
     "metadata": {},
     "output_type": "execute_result"
    }
   ],
   "source": [
    "student.items()"
   ]
  },
  {
   "cell_type": "code",
   "execution_count": 11,
   "id": "2631e5e8-feb6-4e64-a8ce-e5bdd61f932f",
   "metadata": {},
   "outputs": [],
   "source": [
    "student.update({\"name\":\"sugam\"})"
   ]
  },
  {
   "cell_type": "code",
   "execution_count": 12,
   "id": "03eb3701-1da5-4067-9df0-6ea3b55c9ed0",
   "metadata": {},
   "outputs": [
    {
     "data": {
      "text/plain": [
       "{'name': 'sugam', 'age': 45, 'grade': 'A'}"
      ]
     },
     "execution_count": 12,
     "metadata": {},
     "output_type": "execute_result"
    }
   ],
   "source": [
    "student"
   ]
  },
  {
   "cell_type": "code",
   "execution_count": 14,
   "id": "de73c81e-48bd-4b62-b087-c6ef46b431b2",
   "metadata": {},
   "outputs": [],
   "source": [
    "student.update({\"name\":\"magus\", \"language\":\"Python\"})"
   ]
  },
  {
   "cell_type": "code",
   "execution_count": 15,
   "id": "23e8e41e-38a6-4e8a-94a7-90228505a8bc",
   "metadata": {},
   "outputs": [
    {
     "data": {
      "text/plain": [
       "{'name': 'magus', 'age': 45, 'grade': 'A', 'language': 'Python'}"
      ]
     },
     "execution_count": 15,
     "metadata": {},
     "output_type": "execute_result"
    }
   ],
   "source": [
    "student"
   ]
  },
  {
   "cell_type": "code",
   "execution_count": null,
   "id": "9800092e-1c8a-4e35-b6b3-3f726be6eec3",
   "metadata": {},
   "outputs": [],
   "source": []
  }
 ],
 "metadata": {
  "kernelspec": {
   "display_name": "Python [conda env:base] *",
   "language": "python",
   "name": "conda-base-py"
  },
  "language_info": {
   "codemirror_mode": {
    "name": "ipython",
    "version": 3
   },
   "file_extension": ".py",
   "mimetype": "text/x-python",
   "name": "python",
   "nbconvert_exporter": "python",
   "pygments_lexer": "ipython3",
   "version": "3.12.7"
  }
 },
 "nbformat": 4,
 "nbformat_minor": 5
}
