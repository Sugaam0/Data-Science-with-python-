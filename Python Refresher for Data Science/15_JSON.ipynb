{
 "cells": [
  {
   "cell_type": "code",
   "execution_count": 1,
   "id": "2b243dd9-e2bc-4898-bf61-76b952e4d046",
   "metadata": {},
   "outputs": [],
   "source": [
    "import json\n"
   ]
  },
  {
   "cell_type": "code",
   "execution_count": 3,
   "id": "524f510f-9bd0-48e5-833d-f7ebb9c6c890",
   "metadata": {},
   "outputs": [
    {
     "data": {
      "text/plain": [
       "'{\"name\": \"alice\", \"company\": \"IBM\", \"Salary\": 45000}'"
      ]
     },
     "execution_count": 3,
     "metadata": {},
     "output_type": "execute_result"
    }
   ],
   "source": [
    "obj = {\"name\":\"alice\", \"company\":\"IBM\" , \"Salary\": 45000}\n",
    "json.dumps(obj)"
   ]
  },
  {
   "cell_type": "code",
   "execution_count": 5,
   "id": "6351319c-a8f7-4cea-a80e-3a542452c013",
   "metadata": {},
   "outputs": [],
   "source": [
    "d = json.loads('{\"name\":\"Alice\", \"company\":\"IBM\", \"Salary\":45000}')"
   ]
  },
  {
   "cell_type": "code",
   "execution_count": 6,
   "id": "0993410e-7d9e-457e-a844-fa581c63179c",
   "metadata": {},
   "outputs": [
    {
     "data": {
      "text/plain": [
       "dict"
      ]
     },
     "execution_count": 6,
     "metadata": {},
     "output_type": "execute_result"
    }
   ],
   "source": [
    "type(d)"
   ]
  },
  {
   "cell_type": "code",
   "execution_count": 7,
   "id": "37d01f8a-c20d-4d4f-8695-d80af6745898",
   "metadata": {},
   "outputs": [],
   "source": [
    "file = open(\"data.json\", \"w\")"
   ]
  },
  {
   "cell_type": "code",
   "execution_count": 9,
   "id": "1ea89446-4b3a-432c-a1d7-446d49d6436c",
   "metadata": {},
   "outputs": [],
   "source": [
    "json.dump(obj, file)"
   ]
  },
  {
   "cell_type": "code",
   "execution_count": 10,
   "id": "9fbc77f2-981e-4432-95ba-db40f3b89550",
   "metadata": {},
   "outputs": [],
   "source": [
    "file.close()"
   ]
  },
  {
   "cell_type": "code",
   "execution_count": null,
   "id": "98d5389f-da58-4930-8323-0d2ccfec8b36",
   "metadata": {},
   "outputs": [],
   "source": []
  }
 ],
 "metadata": {
  "kernelspec": {
   "display_name": "Python [conda env:base] *",
   "language": "python",
   "name": "conda-base-py"
  },
  "language_info": {
   "codemirror_mode": {
    "name": "ipython",
    "version": 3
   },
   "file_extension": ".py",
   "mimetype": "text/x-python",
   "name": "python",
   "nbconvert_exporter": "python",
   "pygments_lexer": "ipython3",
   "version": "3.12.7"
  }
 },
 "nbformat": 4,
 "nbformat_minor": 5
}
