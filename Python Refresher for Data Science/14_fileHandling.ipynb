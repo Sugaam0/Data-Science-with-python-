{
 "cells": [
  {
   "cell_type": "code",
   "execution_count": 5,
   "id": "2dc4231c-aa08-4bb8-bd6a-662ff010fa86",
   "metadata": {},
   "outputs": [],
   "source": [
    "f = open(\"text.txt\", \"r\")"
   ]
  },
  {
   "cell_type": "code",
   "execution_count": 6,
   "id": "9f76bb2d-1b5e-4b26-b658-eea2ebaf04cb",
   "metadata": {},
   "outputs": [
    {
     "data": {
      "text/plain": [
       "'My name is khan and i am a terrorist'"
      ]
     },
     "execution_count": 6,
     "metadata": {},
     "output_type": "execute_result"
    }
   ],
   "source": [
    "f.read()"
   ]
  },
  {
   "cell_type": "code",
   "execution_count": 7,
   "id": "66490910-7bbc-4486-b72d-56d76a8d5115",
   "metadata": {},
   "outputs": [],
   "source": [
    "s = \"This is a nice way to earnm data science\""
   ]
  },
  {
   "cell_type": "code",
   "execution_count": 8,
   "id": "1cc01046-8d86-4a3a-b79c-4aae72d21271",
   "metadata": {},
   "outputs": [],
   "source": [
    "f.close()"
   ]
  },
  {
   "cell_type": "code",
   "execution_count": 9,
   "id": "a5032e53-ba7e-4d80-9c16-f2996c7e3258",
   "metadata": {},
   "outputs": [],
   "source": [
    "f = open(\"sugam.txt\", \"w\")"
   ]
  },
  {
   "cell_type": "code",
   "execution_count": 10,
   "id": "8a422959-d1d2-400e-b5ee-aa3500d20bc7",
   "metadata": {},
   "outputs": [
    {
     "data": {
      "text/plain": [
       "40"
      ]
     },
     "execution_count": 10,
     "metadata": {},
     "output_type": "execute_result"
    }
   ],
   "source": [
    "f.write(s)"
   ]
  },
  {
   "cell_type": "code",
   "execution_count": 11,
   "id": "16570926-a925-4e82-a00f-b3f0b5682f39",
   "metadata": {},
   "outputs": [],
   "source": [
    "f.close()"
   ]
  },
  {
   "cell_type": "code",
   "execution_count": null,
   "id": "dcfbc92e-13e0-41b3-a19a-01768ba79e34",
   "metadata": {},
   "outputs": [],
   "source": []
  }
 ],
 "metadata": {
  "kernelspec": {
   "display_name": "Python [conda env:base] *",
   "language": "python",
   "name": "conda-base-py"
  },
  "language_info": {
   "codemirror_mode": {
    "name": "ipython",
    "version": 3
   },
   "file_extension": ".py",
   "mimetype": "text/x-python",
   "name": "python",
   "nbconvert_exporter": "python",
   "pygments_lexer": "ipython3",
   "version": "3.12.7"
  }
 },
 "nbformat": 4,
 "nbformat_minor": 5
}
