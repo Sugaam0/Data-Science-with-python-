{
 "cells": [
  {
   "cell_type": "code",
   "execution_count": 1,
   "id": "35353c33-d66c-45a8-9d21-5f0983894dfd",
   "metadata": {},
   "outputs": [],
   "source": [
    "table = []"
   ]
  },
  {
   "cell_type": "code",
   "execution_count": 3,
   "id": "74445a0c-2413-4470-8e3e-231e42d877bb",
   "metadata": {},
   "outputs": [
    {
     "name": "stdout",
     "output_type": "stream",
     "text": [
      "2 * 1 =2\n",
      "2 * 2 =4\n",
      "2 * 3 =6\n",
      "2 * 4 =8\n",
      "2 * 5 =10\n",
      "2 * 6 =12\n",
      "2 * 7 =14\n",
      "2 * 8 =16\n",
      "2 * 9 =18\n",
      "2 * 10 =20\n"
     ]
    }
   ],
   "source": [
    "for i in range(1,11):\n",
    "    print(f\"2 * {i} ={2*i}\")\n",
    "    table.append(2*i)"
   ]
  },
  {
   "cell_type": "code",
   "execution_count": 4,
   "id": "c4d51006-2a9f-4986-82ef-d276d6de680f",
   "metadata": {},
   "outputs": [
    {
     "data": {
      "text/plain": [
       "[2, 4, 6, 8, 10, 12, 14, 16, 18, 20]"
      ]
     },
     "execution_count": 4,
     "metadata": {},
     "output_type": "execute_result"
    }
   ],
   "source": [
    "table"
   ]
  },
  {
   "cell_type": "code",
   "execution_count": 5,
   "id": "07844a68-b4bd-46dd-9509-fa687cb6f7fa",
   "metadata": {},
   "outputs": [],
   "source": [
    "t = [2*i for i in range(1,11)]"
   ]
  },
  {
   "cell_type": "code",
   "execution_count": 6,
   "id": "701a3c07-3e2f-42ee-8318-2baf6c846af4",
   "metadata": {},
   "outputs": [
    {
     "data": {
      "text/plain": [
       "[2, 4, 6, 8, 10, 12, 14, 16, 18, 20]"
      ]
     },
     "execution_count": 6,
     "metadata": {},
     "output_type": "execute_result"
    }
   ],
   "source": [
    "t"
   ]
  },
  {
   "cell_type": "code",
   "execution_count": 7,
   "id": "3b0e019a-7381-4a46-8c2d-7d94a4c9fab2",
   "metadata": {},
   "outputs": [],
   "source": [
    "t = [2*i for i in range(1,11) if i%2==0]"
   ]
  },
  {
   "cell_type": "code",
   "execution_count": 8,
   "id": "a2856e30-f0d3-49fd-b91d-f3ecaa81bba6",
   "metadata": {},
   "outputs": [
    {
     "data": {
      "text/plain": [
       "[4, 8, 12, 16, 20]"
      ]
     },
     "execution_count": 8,
     "metadata": {},
     "output_type": "execute_result"
    }
   ],
   "source": [
    "t"
   ]
  },
  {
   "cell_type": "code",
   "execution_count": null,
   "id": "9731729b-67f9-4802-b000-6c0eac0a239b",
   "metadata": {},
   "outputs": [],
   "source": []
  }
 ],
 "metadata": {
  "kernelspec": {
   "display_name": "Python [conda env:base] *",
   "language": "python",
   "name": "conda-base-py"
  },
  "language_info": {
   "codemirror_mode": {
    "name": "ipython",
    "version": 3
   },
   "file_extension": ".py",
   "mimetype": "text/x-python",
   "name": "python",
   "nbconvert_exporter": "python",
   "pygments_lexer": "ipython3",
   "version": "3.12.7"
  }
 },
 "nbformat": 4,
 "nbformat_minor": 5
}
